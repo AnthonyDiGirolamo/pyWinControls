{
 "cells": [
  {
   "cell_type": "code",
   "execution_count": 1,
   "metadata": {},
   "outputs": [],
   "source": [
    "import hid\n",
    "import struct"
   ]
  },
  {
   "cell_type": "code",
   "execution_count": 34,
   "metadata": {},
   "outputs": [],
   "source": [
    "class WinControls(object):\n",
    "    def __init__(self):\n",
    "        self._openHid()\n",
    "        self.resetConfig()\n",
    "        self.readConfig()\n",
    "\n",
    "    def _openHid(self):\n",
    "        for dev in hid.enumerate(vid=0x2f24):\n",
    "            if dev['usage_page'] == 0xff00:\n",
    "                self.device = hid.Device(path=dev['path'])\n",
    "                break\n",
    "        if not self.device:\n",
    "            raise Exception()\n",
    "\n",
    "    def _cdata(self,index):\n",
    "        return bytes(struct.pack(\"<H\",index)) + self._config[index<<4:(index+1)<<4]\n",
    "\n",
    "    def _checksum(self):\n",
    "        return sum(self._config)\n",
    "\n",
    "    def _parse(self, response):\n",
    "        return struct.unpack_from(\"<8xBHH11xII\", response)\n",
    "\n",
    "    def _waitReady(self, id):\n",
    "        self._response = None\n",
    "        while self._response is None or self._response[8] != 0xaa:\n",
    "            self._response = self.sendReq(id)\n",
    "\n",
    "    def resetConfig(self):\n",
    "        self._config = bytearray()\n",
    "        self.loaded = False\n",
    "\n",
    "    def sendReq(self,id,data=None):\n",
    "        result = bytearray([0x01, 0xa5, id, 0x5a, id^0xFF, 00])\n",
    "\n",
    "        if (data):\n",
    "            result.extend(data)\n",
    "        result.extend(bytearray(33-len(result)))\n",
    "\n",
    "        self.device.send_feature_report(bytes(result))\n",
    "\n",
    "        if (id != 0x21 and id != 0x23): # writes don't have replies\n",
    "            return self.device.get_input_report(1,65)\n",
    "\n",
    "    def readConfig(self):\n",
    "        self._waitReady(0x10)\n",
    "\n",
    "        self.resetConfig()\n",
    "\n",
    "        for addr in range(4):\n",
    "            self._config.extend(self.sendReq(0x11,[addr]))\n",
    "\n",
    "        self._response = self.sendReq(0x12)\n",
    "        if self._parse(self._response)[3] == self._checksum():\n",
    "            self.loaded = True\n",
    "\n",
    "    def writeConfig(self):\n",
    "        if not self.loaded:\n",
    "            # Don't write a blank config!\n",
    "            raise Exception()\n",
    "\n",
    "        self._waitReady(0x20)\n",
    "\n",
    "        for block in range(8):\n",
    "            self.sendReq(0x21,self._cdata(block))\n",
    "\n",
    "        self._response = self.sendReq(0x22)\n",
    "        if self._parse(self._response)[3] == self._checksum():\n",
    "            # valid checksum so commit config\n",
    "            self.sendReq(0x23)\n",
    "            return True\n",
    "        else:\n",
    "            return False\n"
   ]
  },
  {
   "cell_type": "markdown",
   "metadata": {},
   "source": [
    "Reports:\n",
    "0x10: version check/ready for read\n",
    "0x11: read config memory\n",
    "0x12: get config memory checksum\n",
    "\n",
    "0x20: version check/ready for write\n",
    "0x21: write config memory\n",
    "0x22: get checksum\n",
    "0x23: commit config\n",
    "\n",
    "Notes for reply format (except for responses to 0x11/0x21)\n",
    "\n",
    "byte at 8 == 0xaa when hardware is ready (keep reading until true)\n",
    "uint16's at 10 and 12, fw version numbers. Wincontrols renders as X510K504 (gamepad/keyboard modes?)\n",
    "\n",
    "uint16 at 24: simple checksum\n"
   ]
  },
  {
   "cell_type": "code",
   "execution_count": 26,
   "metadata": {},
   "outputs": [],
   "source": [
    "wc = WinControls()\n",
    "\n",
    "wc.readConfig()"
   ]
  },
  {
   "cell_type": "code",
   "execution_count": 32,
   "metadata": {},
   "outputs": [
    {
     "name": "stdout",
     "output_type": "stream",
     "text": [
      "b'\\x00\\x00R\\x00Q\\x00P\\x00O\\x00\\x04\\x00\\x05\\x00\\x1b\\x00\\x1c\\x00'\n",
      "b'\\x01\\x00\\x1a\\x00\\x16\\x00\\x04\\x00\\x07\\x00,\\x00(\\x00\\x00\\x00\\x00\\x00'\n",
      "b'\\x02\\x00\\x00\\x00\\xea\\x00\\xeb\\x00\\xec\\x00\\xed\\x00\\x00\\x00\\x00\\x00\\x00\\x00'\n",
      "b'\\x03\\x00\\x00\\x00\\x00\\x00\\x00\\x00\\x00\\x00\\x00\\x00\\x00\\x00\\x00\\x00\\x00\\x00'\n",
      "b'\\x04\\x00\\x00\\x00\\x00\\x00\\x00\\x00\\x00\\x00\\xf8\\x00\\xf8\\x00\\x00\\x00\\x00\\x00'\n",
      "b'\\x05\\x00\\x00\\x00\\x00\\x00\\x00\\x00,\\x01\\x00\\x00\\x00\\x00\\x00\\x00,\\x01'\n",
      "b'\\x06\\x00\\x00\\x00\\x00\\x00\\x00\\x00\\x00\\x00\\x00\\x00\\x00\\x00\\x00\\x00\\x00\\x00'\n",
      "b'\\x07\\x00\\x00\\x00\\x00\\x00\\x00\\x00\\x00\\x00\\x00\\x00\\x00\\x00\\x00\\x00\\x00\\x00'\n"
     ]
    }
   ],
   "source": [
    "for x in range(8):\n",
    "  print(wc._cdata(x))"
   ]
  }
 ],
 "metadata": {
  "kernelspec": {
   "display_name": "Python 3 (ipykernel)",
   "language": "python",
   "name": "python3"
  },
  "language_info": {
   "codemirror_mode": {
    "name": "ipython",
    "version": 3
   },
   "file_extension": ".py",
   "mimetype": "text/x-python",
   "name": "python",
   "nbconvert_exporter": "python",
   "pygments_lexer": "ipython3",
   "version": "3.11.6"
  }
 },
 "nbformat": 4,
 "nbformat_minor": 2
}
